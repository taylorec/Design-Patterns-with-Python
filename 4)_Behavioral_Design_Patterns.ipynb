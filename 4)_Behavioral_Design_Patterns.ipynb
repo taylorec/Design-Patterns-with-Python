{
  "nbformat": 4,
  "nbformat_minor": 0,
  "metadata": {
    "colab": {
      "provenance": [],
      "toc_visible": true,
      "authorship_tag": "ABX9TyN2lVuZ48u3ZSW9Je4ofqUi",
      "include_colab_link": true
    },
    "kernelspec": {
      "name": "python3",
      "display_name": "Python 3"
    },
    "language_info": {
      "name": "python"
    }
  },
  "cells": [
    {
      "cell_type": "markdown",
      "metadata": {
        "id": "view-in-github",
        "colab_type": "text"
      },
      "source": [
        "<a href=\"https://colab.research.google.com/github/taylorec/Design-Patterns-with-Python/blob/main/4)_Behavioral_Design_Patterns.ipynb\" target=\"_parent\"><img src=\"https://colab.research.google.com/assets/colab-badge.svg\" alt=\"Open In Colab\"/></a>"
      ]
    },
    {
      "cell_type": "markdown",
      "source": [
        "Behavioral patterns deal with object interconnection and algorithms."
      ],
      "metadata": {
        "id": "Gn4efSDodEhW"
      }
    },
    {
      "cell_type": "markdown",
      "source": [
        "## The Chain of Responsibility pattern\n",
        "\n",
        "The Chain of Responsibility pattern offers an elegant way to handle requests by passing them through a chain of handlers. Each handler in the chain has the autonomy to decide whether it can process the request or if it should delegate it further along the chain. This pattern shines when dealing with operations that involve multiple handlers but don’t necessarily require all of them to be involved.\n",
        "\n",
        "The purpose of the chain of responsibility design pattern involves senders and receivers.\n",
        "Specifically, the chain of responsibility design pattern calls for the decoupling of the\n",
        "sender and receiver. Objects can be sent to a series of receivers without the sender being\n",
        "concerned about which receiver handles the request. The request is sent along a chain of receivers and\n",
        "only one of them will process the request."
      ],
      "metadata": {
        "id": "VXRw2kicdQ73"
      }
    },
    {
      "cell_type": "code",
      "execution_count": null,
      "metadata": {
        "id": "bdmwX0xyce0g"
      },
      "outputs": [],
      "source": [
        "class Event:\n",
        "    def __init__(self, name):\n",
        "        self.name = name\n",
        "\n",
        "    def __str__(self):\n",
        "        return self.name"
      ]
    },
    {
      "cell_type": "code",
      "source": [
        "class Widget:\n",
        "    def __init__(self, parent=None):\n",
        "        self.parent = parent\n",
        "\n",
        "    def handle(self, event):\n",
        "        handler = 'handle_{event}'.format(event=event)\n",
        "        if hasattr(self, handler):\n",
        "            method = getattr(self, handler)\n",
        "            method(event)\n",
        "        elif self.parent is not None:\n",
        "            self.parent.handle(event)\n",
        "        elif hasattr(self, 'handle_default'):\n",
        "            self.handle_default(event)"
      ],
      "metadata": {
        "id": "THL_Ez9dd02L"
      },
      "execution_count": null,
      "outputs": []
    },
    {
      "cell_type": "code",
      "source": [
        "class MainWindow(Widget):\n",
        "    def handle_close(self, event):\n",
        "        print('MainWindow: {event}'.format(event=event))\n",
        "\n",
        "    def handle_default(self, event):\n",
        "        print('MainWindow Default: {event}'.format(event=event))"
      ],
      "metadata": {
        "id": "ejTR0Clgekvy"
      },
      "execution_count": null,
      "outputs": []
    },
    {
      "cell_type": "code",
      "source": [
        "class SendDialog(Widget):\n",
        "    def handle_paint(self, event):\n",
        "        print('SendDialog: {event}'.format(event=event))"
      ],
      "metadata": {
        "id": "TrAWSYi0evzB"
      },
      "execution_count": null,
      "outputs": []
    },
    {
      "cell_type": "code",
      "source": [
        "class MsgText(Widget):\n",
        "    def handle_down(self, event):\n",
        "        print('MsgText: {event}'.format(event=event))"
      ],
      "metadata": {
        "id": "pCRvxif0e7gD"
      },
      "execution_count": null,
      "outputs": []
    },
    {
      "cell_type": "code",
      "source": [
        "def main():\n",
        "    mw = MainWindow()\n",
        "    sd = SendDialog(mw)\n",
        "    msg = MsgText(sd)\n",
        "\n",
        "    for e in ('down', 'paint', 'unhandled', 'close'):\n",
        "        evt = Event(e)\n",
        "        print('Sending event -{evt}- to MainWindow'.format(evt=evt))\n",
        "        mw.handle(evt)\n",
        "        print('Sending event -{evt}- to SendDialog'.format(evt=evt))\n",
        "        sd.handle(evt)\n",
        "        print('Sending event -{evt}- to MsgText'.format(evt=evt))\n",
        "        msg.handle(evt)"
      ],
      "metadata": {
        "id": "JR24UP8Ie_B-"
      },
      "execution_count": null,
      "outputs": []
    },
    {
      "cell_type": "code",
      "source": [
        "if __name__ == '__main__':\n",
        "    main()"
      ],
      "metadata": {
        "colab": {
          "base_uri": "https://localhost:8080/"
        },
        "id": "gIZR1_mffE5U",
        "outputId": "05297c81-154a-4409-92a3-a2e0ae41d326"
      },
      "execution_count": null,
      "outputs": [
        {
          "output_type": "stream",
          "name": "stdout",
          "text": [
            "Sending event -down- to MainWindow\n",
            "MainWindow Default: down\n",
            "Sending event -down- to SendDialog\n",
            "MainWindow Default: down\n",
            "Sending event -down- to MsgText\n",
            "MsgText: down\n",
            "Sending event -paint- to MainWindow\n",
            "MainWindow Default: paint\n",
            "Sending event -paint- to SendDialog\n",
            "SendDialog: paint\n",
            "Sending event -paint- to MsgText\n",
            "SendDialog: paint\n",
            "Sending event -unhandled- to MainWindow\n",
            "MainWindow Default: unhandled\n",
            "Sending event -unhandled- to SendDialog\n",
            "MainWindow Default: unhandled\n",
            "Sending event -unhandled- to MsgText\n",
            "MainWindow Default: unhandled\n",
            "Sending event -close- to MainWindow\n",
            "MainWindow: close\n",
            "Sending event -close- to SendDialog\n",
            "MainWindow: close\n",
            "Sending event -close- to MsgText\n",
            "MainWindow: close\n"
          ]
        }
      ]
    },
    {
      "cell_type": "markdown",
      "source": [
        "## The Command pattern\n",
        "\n",
        "The purpose of the command design pattern is to send requests as objects.\n",
        "This pattern, also referred to as the transaction or action design pattern,\n",
        "permits the sending of requests without knowing any details about the receiver\n",
        "or even about what is being requested."
      ],
      "metadata": {
        "id": "YJBqXVd1grTW"
      }
    },
    {
      "cell_type": "code",
      "source": [
        "import os"
      ],
      "metadata": {
        "id": "x_5J_ONafFRK"
      },
      "execution_count": null,
      "outputs": []
    },
    {
      "cell_type": "code",
      "source": [
        "verbose = True"
      ],
      "metadata": {
        "id": "22V2tE9Uhnhq"
      },
      "execution_count": null,
      "outputs": []
    },
    {
      "cell_type": "code",
      "source": [
        "class RenameFile:\n",
        "\n",
        "    def __init__(self, src, dest):\n",
        "        self.src = src\n",
        "        self.dest = dest\n",
        "\n",
        "    def execute(self):\n",
        "        if verbose:\n",
        "            print(f\"[renaming '{self.src}' to '{self.dest}']\")\n",
        "        os.rename(self.src, self.dest)\n",
        "\n",
        "    def undo(self):\n",
        "        if verbose:\n",
        "            print(f\"[renaming '{self.dest}' back to '{self.src}']\")\n",
        "        os.rename(self.dest, self.src)"
      ],
      "metadata": {
        "id": "GTj5RliShpNv"
      },
      "execution_count": null,
      "outputs": []
    },
    {
      "cell_type": "code",
      "source": [
        "class CreateFile:\n",
        "\n",
        "    def __init__(self, path, txt='hello world\\n'):\n",
        "        self.path = path\n",
        "        self.txt = txt\n",
        "\n",
        "    def execute(self):\n",
        "        if verbose:\n",
        "            print(f\"[creating file '{self.path}']\")\n",
        "        with open(self.path, mode='w', encoding='utf-8') as out_file:\n",
        "            out_file.write(self.txt)\n",
        "\n",
        "    def undo(self):\n",
        "        delete_file(self.path)"
      ],
      "metadata": {
        "id": "fn8lIGNph132"
      },
      "execution_count": null,
      "outputs": []
    },
    {
      "cell_type": "code",
      "source": [
        "class ReadFile:\n",
        "\n",
        "    def __init__(self, path):\n",
        "        self.path = path\n",
        "\n",
        "    def execute(self):\n",
        "        if verbose:\n",
        "            print(f\"[reading file '{self.path}']\")\n",
        "        with open(self.path, mode='r', encoding='utf-8') as in_file:\n",
        "            print(in_file.read(), end='')"
      ],
      "metadata": {
        "id": "FTXC4o8Nh-nM"
      },
      "execution_count": null,
      "outputs": []
    },
    {
      "cell_type": "code",
      "source": [
        "def delete_file(path):\n",
        "    if verbose:\n",
        "        print(f\"deleting file {path}\")\n",
        "    os.remove(path)"
      ],
      "metadata": {
        "id": "Jw-iSDmAiTJ1"
      },
      "execution_count": null,
      "outputs": []
    },
    {
      "cell_type": "code",
      "source": [
        "def main():\n",
        "\n",
        "    orig_name, new_name = 'file1', 'file2'\n",
        "\n",
        "    commands = (CreateFile(orig_name),\n",
        "            ReadFile(orig_name),\n",
        "            RenameFile(orig_name, new_name))\n",
        "\n",
        "    [c.execute() for c in commands]\n",
        "\n",
        "    answer = input('reverse the executed commands? [y/n] ')\n",
        "\n",
        "    if answer not in 'yY':\n",
        "        print(f\"the result is {new_name}\")\n",
        "        exit()\n",
        "\n",
        "    for c in reversed(commands):\n",
        "        try:\n",
        "            c.undo()\n",
        "        except AttributeError as e:\n",
        "            print(\"Error\", str(e))"
      ],
      "metadata": {
        "id": "a4F3QzYTiV_4"
      },
      "execution_count": null,
      "outputs": []
    },
    {
      "cell_type": "code",
      "source": [
        "if __name__ == \"__main__\":\n",
        "    main()"
      ],
      "metadata": {
        "colab": {
          "base_uri": "https://localhost:8080/"
        },
        "id": "Wz1-QRG1i54C",
        "outputId": "bcb69be0-c251-4afb-d9ea-c0f412cf14ba"
      },
      "execution_count": null,
      "outputs": [
        {
          "output_type": "stream",
          "name": "stdout",
          "text": [
            "[creating file 'file1']\n",
            "[reading file 'file1']\n",
            "hello world\n",
            "[renaming 'file1' to 'file2']\n",
            "reverse the executed commands? [y/n] y\n",
            "[renaming 'file2' back to 'file1']\n",
            "Error 'ReadFile' object has no attribute 'undo'\n",
            "deleting file file1\n"
          ]
        }
      ]
    },
    {
      "cell_type": "markdown",
      "source": [
        "## The Observer pattern\n",
        "\n",
        "The Observer pattern describes a publish-subscribe relationship between a single object, the publisher, which is also known as the subject or observable, and one or more objects, the subscribers, also known as observers. So, the subject notifies the subscribers of any state changes, typically by calling one of their methods.\n",
        "\n",
        "The observer design pattern requires a one-to-many object dependency.\n",
        "The purpose of the dependency is to update subscriber objects when a change\n",
        "is made to the publisher object's state."
      ],
      "metadata": {
        "id": "aN2H6egFjLLQ"
      }
    },
    {
      "cell_type": "code",
      "source": [
        "class Publisher:\n",
        "    def __init__(self):\n",
        "        self.observers = []\n",
        "\n",
        "    def add(self, observer):\n",
        "        if observer not in self.observers:\n",
        "            self.observers.append(observer)\n",
        "        else:\n",
        "            print(f'Failed to add: {observer}')\n",
        "\n",
        "    def remove(self, observer):\n",
        "        try:\n",
        "            self.observers.remove(observer)\n",
        "        except ValueError:\n",
        "            print(f'Failed to remove: {observer}')\n",
        "\n",
        "    def notify(self):\n",
        "        [o.notify(self) for o in self.observers]"
      ],
      "metadata": {
        "id": "cOujAwkzi8Bg"
      },
      "execution_count": null,
      "outputs": []
    },
    {
      "cell_type": "code",
      "source": [
        "class DefaultFormatter(Publisher):\n",
        "    def __init__(self, name):\n",
        "        Publisher.__init__(self)\n",
        "        self.name = name\n",
        "        self._data = 0\n",
        "\n",
        "    def __str__(self):\n",
        "        return f\"{type(self).__name__}: '{self.name}' has data = {self._data}\"\n",
        "\n",
        "    @property\n",
        "    def data(self):\n",
        "        return self._data\n",
        "\n",
        "    @data.setter\n",
        "    def data(self, new_value):\n",
        "        try:\n",
        "            self._data = int(new_value)\n",
        "        except ValueError as e:\n",
        "            print(f'Error: {e}')\n",
        "        else:\n",
        "            self.notify()"
      ],
      "metadata": {
        "id": "7t_Lq-xSk3rQ"
      },
      "execution_count": null,
      "outputs": []
    },
    {
      "cell_type": "code",
      "source": [
        "class HexFormatterObs:\n",
        "    def notify(self, publisher):\n",
        "        value = hex(publisher.data)\n",
        "        print(f\"{type(self).__name__}: '{publisher.name}' has now hex data = {value}\")"
      ],
      "metadata": {
        "id": "xk3YE4nmlJiP"
      },
      "execution_count": null,
      "outputs": []
    },
    {
      "cell_type": "code",
      "source": [
        "class BinaryFormatterObs:\n",
        "    def notify(self, publisher):\n",
        "        value = bin(publisher.data)\n",
        "        print(f\"{type(self).__name__}: '{publisher.name}' has now bin data = {value}\")"
      ],
      "metadata": {
        "id": "6R4Fk3WNq4Nd"
      },
      "execution_count": null,
      "outputs": []
    },
    {
      "cell_type": "code",
      "source": [
        "def main():\n",
        "    df = DefaultFormatter('test1')\n",
        "    print(df)\n",
        "\n",
        "    print()\n",
        "    hf = HexFormatterObs()\n",
        "    df.add(hf)\n",
        "    df.data = 3\n",
        "    print(df)\n",
        "\n",
        "    print()\n",
        "    bf = BinaryFormatterObs()\n",
        "    df.add(bf)\n",
        "    df.data = 21\n",
        "    print(df)\n",
        "\n",
        "    print()\n",
        "    df.remove(hf)\n",
        "    df.data = 40\n",
        "    print(df)\n",
        "\n",
        "    print()\n",
        "    df.remove(hf)\n",
        "    df.add(bf)\n",
        "\n",
        "    df.data = 'hello'\n",
        "    print(df)\n",
        "\n",
        "    print()\n",
        "    df.data = 15.8\n",
        "    print(df)"
      ],
      "metadata": {
        "id": "wmvC4KD1q-bx"
      },
      "execution_count": null,
      "outputs": []
    },
    {
      "cell_type": "code",
      "source": [
        "if __name__ == '__main__':\n",
        "    main()"
      ],
      "metadata": {
        "colab": {
          "base_uri": "https://localhost:8080/"
        },
        "id": "2YbKVTGFrJq_",
        "outputId": "05c3bee8-b533-49b8-d521-f5e5dd493bc0"
      },
      "execution_count": null,
      "outputs": [
        {
          "output_type": "stream",
          "name": "stdout",
          "text": [
            "DefaultFormatter: 'test1' has data = 0\n",
            "\n",
            "HexFormatterObs: 'test1' has now hex data = 0x3\n",
            "DefaultFormatter: 'test1' has data = 3\n",
            "\n",
            "HexFormatterObs: 'test1' has now hex data = 0x15\n",
            "BinaryFormatterObs: 'test1' has now bin data = 0b10101\n",
            "DefaultFormatter: 'test1' has data = 21\n",
            "\n",
            "BinaryFormatterObs: 'test1' has now bin data = 0b101000\n",
            "DefaultFormatter: 'test1' has data = 40\n",
            "\n",
            "Failed to remove: <__main__.HexFormatterObs object at 0x7e45d7fdf010>\n",
            "Failed to add: <__main__.BinaryFormatterObs object at 0x7e45d7fdff40>\n",
            "Error: invalid literal for int() with base 10: 'hello'\n",
            "DefaultFormatter: 'test1' has data = 40\n",
            "\n",
            "BinaryFormatterObs: 'test1' has now bin data = 0b1111\n",
            "DefaultFormatter: 'test1' has data = 15\n"
          ]
        }
      ]
    },
    {
      "cell_type": "markdown",
      "source": [
        "## The Interpreter pattern\n",
        "\n",
        "The interpreter design pattern is used to establish a grammatical representation\n",
        "and an interpreter that interprets language."
      ],
      "metadata": {
        "id": "fLQFZ6hdtHn9"
      }
    },
    {
      "cell_type": "code",
      "source": [
        "from pyparsing import Word, OneOrMore, Optional, Group, Suppress, alphanums"
      ],
      "metadata": {
        "id": "LyWdSOEktQO-"
      },
      "execution_count": null,
      "outputs": []
    },
    {
      "cell_type": "code",
      "source": [
        "class Gate:\n",
        "    def __init__(self):\n",
        "        self.is_open = False\n",
        "\n",
        "    def __str__(self):\n",
        "        return 'open' if self.is_open else 'closed'\n",
        "\n",
        "    def open(self):\n",
        "        print('opening the gate')\n",
        "        self.is_open = True\n",
        "\n",
        "    def close(self):\n",
        "        print('closing the gate')\n",
        "        self.is_open = False"
      ],
      "metadata": {
        "id": "1yf6wvcl84r8"
      },
      "execution_count": null,
      "outputs": []
    },
    {
      "cell_type": "code",
      "source": [
        "class Garage:\n",
        "    def __init__(self):\n",
        "        self.is_open = False\n",
        "\n",
        "    def __str__(self):\n",
        "        return 'open' if self.is_open else 'closed'\n",
        "\n",
        "    def open(self):\n",
        "        print('opening the garage')\n",
        "        self.is_open = True\n",
        "\n",
        "    def close(self):\n",
        "        print('closing the garage')\n",
        "        self.is_open = False"
      ],
      "metadata": {
        "id": "NTdsw-hn9Ajq"
      },
      "execution_count": null,
      "outputs": []
    },
    {
      "cell_type": "code",
      "source": [
        "class Aircondition:\n",
        "    def __init__(self):\n",
        "        self.is_on = False\n",
        "\n",
        "    def __str__(self):\n",
        "        return 'on' if self.is_on else 'off'\n",
        "\n",
        "    def turn_on(self):\n",
        "        print('turning on the air condition')\n",
        "        self.is_on = True\n",
        "\n",
        "    def turn_off(self):\n",
        "        print('turning off the air condition')\n",
        "        self.is_on = False"
      ],
      "metadata": {
        "id": "lvbcRwIU9GXG"
      },
      "execution_count": null,
      "outputs": []
    },
    {
      "cell_type": "code",
      "source": [
        "class Heating:\n",
        "    def __init__(self):\n",
        "        self.is_on = False\n",
        "\n",
        "    def __str__(self):\n",
        "        return 'on' if self.is_on else 'off'\n",
        "\n",
        "    def turn_on(self):\n",
        "        print('turning on the heating')\n",
        "        self.is_on = True\n",
        "\n",
        "    def turn_off(self):\n",
        "        print('turning off the heating')\n",
        "        self.is_on = False"
      ],
      "metadata": {
        "id": "GnOruyiZ9L4g"
      },
      "execution_count": null,
      "outputs": []
    },
    {
      "cell_type": "code",
      "source": [
        "class Boiler:\n",
        "    def __init__(self):\n",
        "        self.temperature = 83\n",
        "\n",
        "    def __str__(self):\n",
        "        return f'boiler temperature: {self.temperature}'\n",
        "\n",
        "    def increase_temperature(self, amount):\n",
        "        print(f\"increasing the boiler's temperature by {amount} degrees\")\n",
        "        self.temperature += amount\n",
        "\n",
        "    def decrease_temperature(self, amount):\n",
        "        print(f\"decreasing the boiler's temperature by {amount} degrees\")\n",
        "        self.temperature -= amount"
      ],
      "metadata": {
        "id": "R7gAHIRb9Q2N"
      },
      "execution_count": null,
      "outputs": []
    },
    {
      "cell_type": "code",
      "source": [
        "class Fridge:\n",
        "    def __init__(self):\n",
        "        self.temperature = 34\n",
        "\n",
        "    def __str__(self):\n",
        "        return f'fridge temperature: {self.temperature}'\n",
        "\n",
        "    def increase_temperature(self, amount):\n",
        "        print(f\"increasing the fridge's temperature by {amount} degrees\")\n",
        "        self.temperature += amount\n",
        "\n",
        "    def decrease_temperature(self, amount):\n",
        "        print(f\"decreasing the fridge's temperature by {amount} degrees\")\n",
        "        self.temperature -= amount"
      ],
      "metadata": {
        "id": "JcSpahPH-MW-"
      },
      "execution_count": null,
      "outputs": []
    },
    {
      "cell_type": "code",
      "source": [
        "word = Word(alphanums)\n",
        "command = Group(OneOrMore(word))\n",
        "command"
      ],
      "metadata": {
        "colab": {
          "base_uri": "https://localhost:8080/"
        },
        "id": "gUDGCiVn-zZZ",
        "outputId": "3d40641b-7d68-47b6-9f18-41cb688550d0"
      },
      "execution_count": null,
      "outputs": [
        {
          "output_type": "execute_result",
          "data": {
            "text/plain": [
              "Group:({W:(0-9A-Za-z)}...)"
            ]
          },
          "metadata": {},
          "execution_count": 10
        }
      ]
    },
    {
      "cell_type": "code",
      "source": [
        "def main():\n",
        "    word = Word(alphanums)\n",
        "    command = Group(OneOrMore(word))\n",
        "    token = Suppress(\"->\")\n",
        "    device = Group(OneOrMore(word))\n",
        "    argument = Group(OneOrMore(word))\n",
        "    event = command + token + device + Optional(token + argument)\n",
        "\n",
        "    gate = Gate()\n",
        "    garage = Garage()\n",
        "    airco = Aircondition()\n",
        "    heating = Heating()\n",
        "    boiler = Boiler()\n",
        "    fridge = Fridge()\n",
        "\n",
        "    tests = ('open -> gate',\n",
        "             'close -> garage',\n",
        "             'turn on -> air condition',\n",
        "             'turn off -> heating',\n",
        "             'increase -> boiler temperature -> 5 degrees',\n",
        "             'decrease -> fridge temperature -> 2 degrees')\n",
        "\n",
        "    open_actions = {'gate':gate.open,\n",
        "                    'garage':garage.open,\n",
        "                    'air condition':airco.turn_on,\n",
        "                    'heating':heating.turn_on,\n",
        "                    'boiler temperature':boiler.increase_temperature,\n",
        "                    'fridge temperature':fridge.increase_temperature}\n",
        "    close_actions = {'gate':gate.close,\n",
        "                     'garage':garage.close,\n",
        "                     'air condition':airco.turn_off,\n",
        "                     'heating':heating.turn_off,\n",
        "                     'boiler temperature':boiler.decrease_temperature,\n",
        "                     'fridge temperature':fridge.decrease_temperature}\n",
        "\n",
        "    for t in tests:\n",
        "        if len(event.parseString(t)) == 2: # no argument\n",
        "            cmd, dev = event.parseString(t)\n",
        "            cmd_str, dev_str = ' '.join(cmd), ' '.join(dev)\n",
        "            if 'open' in cmd_str or 'turn on' in cmd_str:\n",
        "                open_actions[dev_str]()\n",
        "            elif 'close' in cmd_str or 'turn off' in cmd_str:\n",
        "                close_actions[dev_str]()\n",
        "        elif len(event.parseString(t)) == 3: # argument\n",
        "            cmd, dev, arg = event.parseString(t)\n",
        "            cmd_str = ' '.join(cmd)\n",
        "            dev_str = ' '.join(dev)\n",
        "            arg_str = ' '.join(cmd)\n",
        "            num_arg = 0\n",
        "            try:\n",
        "                # extract the numeric part\n",
        "                num_arg = int(arg_str.split()[0])\n",
        "            except ValueError as err:\n",
        "                print(f\"expected number but got: '{arg_str[0]}'\")\n",
        "            if 'increase' in cmd_str and num_arg > 0:\n",
        "                open_actions[dev_str](num_arg)\n",
        "            elif 'decrease' in cmd_str and num_arg > 0:\n",
        "                close_actions[dev_str](num_arg)\n",
        "\n",
        "    print('The gate is open:', gate.is_open)\n",
        "    print('The garage is open:', garage.is_open)\n",
        "    print('The air condition is on:', airco.is_on)\n",
        "    print('The heating is on:', heating.is_on)\n",
        "    print('The boiler temperature is ', boiler.temperature)\n",
        "    print('The fridge temperature is ', fridge.temperature)\n"
      ],
      "metadata": {
        "id": "eXlaONsB-Ten"
      },
      "execution_count": null,
      "outputs": []
    },
    {
      "cell_type": "code",
      "source": [
        "if __name__ == '__main__':\n",
        "    main()"
      ],
      "metadata": {
        "colab": {
          "base_uri": "https://localhost:8080/"
        },
        "id": "YJ3Yj-gwARs6",
        "outputId": "3f7c9b1d-113e-4408-a2ad-bf745f8f5a4d"
      },
      "execution_count": null,
      "outputs": [
        {
          "output_type": "stream",
          "name": "stdout",
          "text": [
            "opening the gate\n",
            "closing the garage\n",
            "turning on the air condition\n",
            "turning off the heating\n",
            "expected number but got: 'i'\n",
            "expected number but got: 'd'\n",
            "The gate is open: True\n",
            "The garage is open: False\n",
            "The air condition is on: True\n",
            "The heating is on: False\n",
            "The boiler temperature is  83\n",
            "The fridge temperature is  34\n"
          ]
        }
      ]
    },
    {
      "cell_type": "markdown",
      "source": [
        "## The Memento pattern\n",
        "\n",
        "The memento design pattern saves an object's current internal state as a\n",
        "memento so that it can be referred to and restored to."
      ],
      "metadata": {
        "id": "YVsijbVvFAKq"
      }
    },
    {
      "cell_type": "code",
      "source": [
        "import pickle"
      ],
      "metadata": {
        "id": "yVHs9KttBeKz"
      },
      "execution_count": null,
      "outputs": []
    },
    {
      "cell_type": "code",
      "source": [
        "class Quote:\n",
        "\n",
        "    def __init__(self, text, author):\n",
        "        self.text = text\n",
        "        self.author = author\n",
        "\n",
        "    def save_state(self):\n",
        "        current_state = pickle.dumps(self.__dict__)\n",
        "\n",
        "        return current_state\n",
        "\n",
        "    def restore_state(self, memento):\n",
        "        previous_state = pickle.loads(memento)\n",
        "\n",
        "        self.__dict__.clear()\n",
        "        self.__dict__.update(previous_state)\n",
        "\n",
        "    def __str__(self):\n",
        "        return f'{self.text} - By {self.author}.'"
      ],
      "metadata": {
        "id": "ytPehuJ8GB4j"
      },
      "execution_count": null,
      "outputs": []
    },
    {
      "cell_type": "code",
      "source": [
        "def main():\n",
        "    print('Quote 1')\n",
        "    q1 = Quote(\"A room without books is like a body without a soul.\",\n",
        "               'Unknown author')\n",
        "    print(f'\\nOriginal version:\\n{q1}')\n",
        "    q1_mem = q1.save_state()\n",
        "\n",
        "    # Now, we found the author's name\n",
        "    q1.author = 'Marcus Tullius Cicero'\n",
        "    print(f'\\nWe found the author, and did an update:\\n{q1}')\n",
        "\n",
        "    # Restoring previous state (Undo)\n",
        "    q1.restore_state(q1_mem)\n",
        "    print(f'\\nWe had to restore the previous version:\\n{q1}')\n",
        "\n",
        "    print()\n",
        "    print('Quote 2')\n",
        "    q2 = Quote(\"To be you in a world that is constantly trying to make you be something else is the greatest accomplishment.\",\n",
        "               'Ralph Waldo Emerson')\n",
        "    print(f'\\nOriginal version:\\n{q2}')\n",
        "    q2_mem1 = q2.save_state()\n",
        "\n",
        "    # changes to the text\n",
        "    q2.text = \"To be yourself in a world that is constantly trying to make you something else is the greatest accomplishment.\"\n",
        "    print(f'\\nWe fixed the text:\\n{q2}')\n",
        "    q2_mem2 = q2.save_state()\n",
        "\n",
        "    q2.text = \"To be yourself when the world is constantly trying to make you something else is the greatest accomplishment.\"\n",
        "    print(f'\\nWe fixed the text again:\\n{q2}')\n",
        "\n",
        "    # Restoring previous state (Undo)\n",
        "    q2.restore_state(q2_mem2)\n",
        "    print(f'\\nWe had to restore the 2nd version, the correct one:\\n{q2}')"
      ],
      "metadata": {
        "id": "HsohcMxSGW05"
      },
      "execution_count": null,
      "outputs": []
    },
    {
      "cell_type": "code",
      "source": [
        "if __name__ == \"__main__\":\n",
        "    main()"
      ],
      "metadata": {
        "colab": {
          "base_uri": "https://localhost:8080/"
        },
        "id": "vHYwsXhOHmqi",
        "outputId": "884c33b8-5631-4428-c034-23cc10a7c327"
      },
      "execution_count": null,
      "outputs": [
        {
          "output_type": "stream",
          "name": "stdout",
          "text": [
            "Quote 1\n",
            "\n",
            "Original version:\n",
            "A room without books is like a body without a soul. - By Unknown author.\n",
            "\n",
            "We found the author, and did an update:\n",
            "A room without books is like a body without a soul. - By Marcus Tullius Cicero.\n",
            "\n",
            "We had to restore the previous version:\n",
            "A room without books is like a body without a soul. - By Unknown author.\n",
            "\n",
            "Quote 2\n",
            "\n",
            "Original version:\n",
            "To be you in a world that is constantly trying to make you be something else is the greatest accomplishment. - By Ralph Waldo Emerson.\n",
            "\n",
            "We fixed the text:\n",
            "To be yourself in a world that is constantly trying to make you something else is the greatest accomplishment. - By Ralph Waldo Emerson.\n",
            "\n",
            "We fixed the text again:\n",
            "To be yourself when the world is constantly trying to make you something else is the greatest accomplishment. - By Ralph Waldo Emerson.\n",
            "\n",
            "We had to restore the 2nd version, the correct one:\n",
            "To be yourself in a world that is constantly trying to make you something else is the greatest accomplishment. - By Ralph Waldo Emerson.\n"
          ]
        }
      ]
    },
    {
      "cell_type": "markdown",
      "source": [
        "## The Iterator pattern\n",
        "\n",
        "The purpose of the iterator design pattern is to grant access to an\n",
        "object's members without sharing the encapsulated data structures."
      ],
      "metadata": {
        "id": "YfOzj4nsLFBS"
      }
    },
    {
      "cell_type": "code",
      "source": [
        "class FootballTeamIterator:\n",
        "\n",
        "    def __init__(self, members):\n",
        "        # the list of players and coaches\n",
        "        self.members = members\n",
        "        self.index = 0\n",
        "\n",
        "    def __iter__(self):\n",
        "        return self\n",
        "\n",
        "    def __next__(self):\n",
        "        if self.index < len(self.members):\n",
        "            val = self.members[self.index]\n",
        "            self.index += 1\n",
        "            return val"
      ],
      "metadata": {
        "id": "zFU1nBItHpsP"
      },
      "execution_count": null,
      "outputs": []
    },
    {
      "cell_type": "code",
      "source": [
        "class FootballTeam:\n",
        "\n",
        "    def __init__(self, members):\n",
        "        self.members = members\n",
        "\n",
        "    def __iter__(self):\n",
        "        return FootballTeamIterator(self.members)"
      ],
      "metadata": {
        "id": "IrAX091jdJTu"
      },
      "execution_count": null,
      "outputs": []
    },
    {
      "cell_type": "code",
      "source": [
        "def main():\n",
        "    members = [f'player{str(x)}' for x in range(1, 23)]\n",
        "    members = members + ['coach1', 'coach2', 'coach3']\n",
        "    team = FootballTeam(members)\n",
        "    team_it = iter(team)\n",
        "    for i in range(len(members)):\n",
        "      print(next(team_it))"
      ],
      "metadata": {
        "id": "lFGw6daIdLh8"
      },
      "execution_count": null,
      "outputs": []
    },
    {
      "cell_type": "code",
      "source": [
        "if __name__ == '__main__':\n",
        "    main()"
      ],
      "metadata": {
        "colab": {
          "base_uri": "https://localhost:8080/"
        },
        "id": "_TzBaICQdWHu",
        "outputId": "4cfabbdb-c704-4772-f139-bd3680220c5d"
      },
      "execution_count": null,
      "outputs": [
        {
          "output_type": "stream",
          "name": "stdout",
          "text": [
            "player1\n",
            "player2\n",
            "player3\n",
            "player4\n",
            "player5\n",
            "player6\n",
            "player7\n",
            "player8\n",
            "player9\n",
            "player10\n",
            "player11\n",
            "player12\n",
            "player13\n",
            "player14\n",
            "player15\n",
            "player16\n",
            "player17\n",
            "player18\n",
            "player19\n",
            "player20\n",
            "player21\n",
            "player22\n",
            "coach1\n",
            "coach2\n",
            "coach3\n"
          ]
        }
      ]
    },
    {
      "cell_type": "code",
      "source": [],
      "metadata": {
        "id": "4nQSFC8sdW0w"
      },
      "execution_count": null,
      "outputs": []
    }
  ]
}