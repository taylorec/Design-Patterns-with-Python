{
  "nbformat": 4,
  "nbformat_minor": 0,
  "metadata": {
    "colab": {
      "provenance": [],
      "toc_visible": true,
      "authorship_tag": "ABX9TyMPnSr8noCivZ4yZvfN3g6P",
      "include_colab_link": true
    },
    "kernelspec": {
      "name": "python3",
      "display_name": "Python 3"
    },
    "language_info": {
      "name": "python"
    }
  },
  "cells": [
    {
      "cell_type": "markdown",
      "metadata": {
        "id": "view-in-github",
        "colab_type": "text"
      },
      "source": [
        "<a href=\"https://colab.research.google.com/github/taylorec/Design-Patterns-with-Python/blob/main/3)_Structural_Design_Patterns.ipynb\" target=\"_parent\"><img src=\"https://colab.research.google.com/assets/colab-badge.svg\" alt=\"Open In Colab\"/></a>"
      ]
    },
    {
      "cell_type": "markdown",
      "source": [
        "A structural design pattern proposes a way of composing objects to provide new functionality."
      ],
      "metadata": {
        "id": "8QXy3m0BR8f6"
      }
    },
    {
      "cell_type": "markdown",
      "source": [
        "## The Adapter pattern\n",
        "\n",
        "The adapter pattern is a structural design pattern that helps us make two incompatible interfaces compatible."
      ],
      "metadata": {
        "id": "-VH8QKsLSIN-"
      }
    },
    {
      "cell_type": "code",
      "execution_count": null,
      "metadata": {
        "id": "KKWqxLg3Rk1M"
      },
      "outputs": [],
      "source": [
        "class OldPaymentSystem:\n",
        "    def __init__(self, currency):\n",
        "        self.currency = currency\n",
        "    def make_payment(self, amount):\n",
        "        print(\n",
        "            f\"[OLD] Pay {amount} {self.currency}\"\n",
        "        )"
      ]
    },
    {
      "cell_type": "code",
      "source": [
        "class NewPaymentGateway:\n",
        "    def __init__(self, currency):\n",
        "        self.currency = currency\n",
        "    def execute_payment(self, amount):\n",
        "        print(\n",
        "            f\"Execute payment of {amount} {self.currency}\"\n",
        "        )"
      ],
      "metadata": {
        "id": "nm7xld_wT1-Z"
      },
      "execution_count": null,
      "outputs": []
    },
    {
      "cell_type": "code",
      "source": [
        "class PaymentAdapter:\n",
        "    def __init__(self, system):\n",
        "        self.system = system\n",
        "    def make_payment(self, amount):\n",
        "        self.system.execute_payment(amount)"
      ],
      "metadata": {
        "id": "0D9NITrMUCme"
      },
      "execution_count": null,
      "outputs": []
    },
    {
      "cell_type": "code",
      "source": [
        "def main():\n",
        "    old_system = OldPaymentSystem(\"euro\")\n",
        "    print(old_system)\n",
        "    new_system = NewPaymentGateway(\"euro\")\n",
        "    print(new_system)\n",
        "    adapter = PaymentAdapter(new_system)\n",
        "    adapter.make_payment(100)"
      ],
      "metadata": {
        "id": "l6r6161VUd_P"
      },
      "execution_count": null,
      "outputs": []
    },
    {
      "cell_type": "code",
      "source": [
        "if __name__ == \"__main__\":\n",
        "    main()"
      ],
      "metadata": {
        "colab": {
          "base_uri": "https://localhost:8080/"
        },
        "id": "SM6CLFKvUwwJ",
        "outputId": "6034ec3c-e222-44f7-88ac-8cc013b5c30d"
      },
      "execution_count": null,
      "outputs": [
        {
          "output_type": "stream",
          "name": "stdout",
          "text": [
            "<__main__.OldPaymentSystem object at 0x7ca82894f790>\n",
            "<__main__.NewPaymentGateway object at 0x7ca82894e0e0>\n",
            "Execute payment of 100 euro\n"
          ]
        }
      ]
    },
    {
      "cell_type": "markdown",
      "source": [
        "## The Decorator pattern\n",
        "\n",
        "The decorator pattern allows added responsibilities to an object dynamically, and in a transparent manner (without affecting other objects).\n",
        "\n",
        "A Python decorator is a callable (function, method, or class) that gets a func_in function object as input and returns another function object, func_out. It is a commonly used technique for extending the behavior of a function, method, or class."
      ],
      "metadata": {
        "id": "wIpYP-K3VyB6"
      }
    },
    {
      "cell_type": "code",
      "source": [
        "import functools"
      ],
      "metadata": {
        "id": "F6IwpwtrVuyq"
      },
      "execution_count": null,
      "outputs": []
    },
    {
      "cell_type": "code",
      "source": [
        "def memoize(func):\n",
        "    cache = {}\n",
        "    @functools.wraps(func)\n",
        "    def memoizer(*args):\n",
        "        if args not in cache:\n",
        "            cache[args] = func(*args)\n",
        "        return cache[args]\n",
        "    return memoizer"
      ],
      "metadata": {
        "id": "RRiWheRpXdBh"
      },
      "execution_count": null,
      "outputs": []
    },
    {
      "cell_type": "code",
      "source": [
        "@memoize\n",
        "def number_sum(n):\n",
        "    if n == 0:\n",
        "        return 0\n",
        "    else:\n",
        "        return n + number_sum(n - 1)"
      ],
      "metadata": {
        "id": "XqmRue7zXh2e"
      },
      "execution_count": null,
      "outputs": []
    },
    {
      "cell_type": "code",
      "source": [
        "@memoize\n",
        "def fibonacci(n):\n",
        "    if n in (0, 1):\n",
        "        return n\n",
        "    else:\n",
        "        return fibonacci(n - 1) + fibonacci(n - 2)"
      ],
      "metadata": {
        "id": "f2rofP0dX7OR"
      },
      "execution_count": null,
      "outputs": []
    },
    {
      "cell_type": "code",
      "source": [
        "def main():\n",
        "    from timeit import Timer\n",
        "    to_execute = [\n",
        "        (\n",
        "            number_sum,\n",
        "            Timer(\n",
        "                \"number_sum(300)\",\n",
        "                \"from __main__ import number_sum\",\n",
        "            ),\n",
        "        ),\n",
        "        (\n",
        "            fibonacci,\n",
        "            Timer(\n",
        "                \"fibonacci(100)\",\n",
        "                \"from __main__ import fibonacci\",\n",
        "            ),\n",
        "        ),\n",
        "    ]\n",
        "    for item in to_execute:\n",
        "        func = item[0]\n",
        "        print(\n",
        "            f'Function \"{func.__name__}\": {func.__doc__}'\n",
        "        )\n",
        "        t = item[1]\n",
        "        print(f\"Time: {t.timeit()}\")\n",
        "        print()"
      ],
      "metadata": {
        "id": "eiRhRS8aYFlJ"
      },
      "execution_count": null,
      "outputs": []
    },
    {
      "cell_type": "code",
      "source": [
        "if __name__ == \"__main__\":\n",
        "    main()"
      ],
      "metadata": {
        "colab": {
          "base_uri": "https://localhost:8080/"
        },
        "id": "bWoGVI4vYm70",
        "outputId": "12ae8ee4-d1c8-4f2f-8562-3c90126576f6"
      },
      "execution_count": null,
      "outputs": [
        {
          "output_type": "stream",
          "name": "stdout",
          "text": [
            "Function \"number_sum\": None\n",
            "Time: 0.285784460999821\n",
            "\n",
            "Function \"fibonacci\": None\n",
            "Time: 0.2241251939999529\n",
            "\n"
          ]
        }
      ]
    },
    {
      "cell_type": "markdown",
      "source": [
        "## The Bridge pattern\n",
        "\n",
        "The bridge pattern  is designed up-front to decouple an implementation from its abstraction.\n",
        "\n",
        "Using the bridge pattern is a good idea when you want to share an implementation among multiple objects. Basically, instead of implementing several specialized classes, and defining all that is required within each class, you can define the following special components:\n",
        "\n",
        "- An abstraction that applies to all the classes\n",
        "- A separate interface for the different objects involved"
      ],
      "metadata": {
        "id": "ljdEc5MtYyeb"
      }
    },
    {
      "cell_type": "code",
      "source": [
        "import abc\n",
        "import urllib.parse\n",
        "import urllib.request"
      ],
      "metadata": {
        "id": "hnA2-aDNYscL"
      },
      "execution_count": null,
      "outputs": []
    },
    {
      "cell_type": "code",
      "source": [
        "class ResourceContent:\n",
        "    \"\"\"\n",
        "    Define the abstraction's interface.\n",
        "    Maintain a reference to an object which represents the Implementor.\n",
        "    \"\"\"\n",
        "\n",
        "    def __init__(self, imp):\n",
        "        self._imp = imp\n",
        "\n",
        "    def show_content(self, path):\n",
        "        self._imp.fetch(path)"
      ],
      "metadata": {
        "id": "qGOEp4zKna6S"
      },
      "execution_count": null,
      "outputs": []
    },
    {
      "cell_type": "code",
      "source": [
        "class ResourceContentFetcher(metaclass=abc.ABCMeta):\n",
        "    \"\"\"\n",
        "    Define the interface (Implementor) for implementation classes that help fetch content.\n",
        "    \"\"\"\n",
        "\n",
        "    @abc.abstractmethod\n",
        "    def fetch(path):\n",
        "        pass"
      ],
      "metadata": {
        "id": "cH6-ebfQnmQY"
      },
      "execution_count": null,
      "outputs": []
    },
    {
      "cell_type": "code",
      "source": [
        "class URLFetcher(ResourceContentFetcher):\n",
        "    \"\"\"\n",
        "    Implement the Implementor interface and define its concrete\n",
        "    implementation.\n",
        "    \"\"\"\n",
        "\n",
        "    def fetch(self, path):\n",
        "        # path is an URL\n",
        "        req = urllib.request.Request(path)\n",
        "        with urllib.request.urlopen(req) as response:\n",
        "            if response.code == 200:\n",
        "                the_page = response.read()\n",
        "                print(the_page)"
      ],
      "metadata": {
        "id": "GgOnLuCenvRc"
      },
      "execution_count": null,
      "outputs": []
    },
    {
      "cell_type": "code",
      "source": [
        "class LocalFileFetcher(ResourceContentFetcher):\n",
        "    \"\"\"\n",
        "    Implement the Implementor interface and define its concrete\n",
        "    implementation.\n",
        "    \"\"\"\n",
        "\n",
        "    def fetch(self, path):\n",
        "        # path is the filepath to a text file\n",
        "        with open(path) as f:\n",
        "            print(f.read())"
      ],
      "metadata": {
        "id": "haoLoYsoosIz"
      },
      "execution_count": null,
      "outputs": []
    },
    {
      "cell_type": "code",
      "source": [
        "def main():\n",
        "    url_fetcher = URLFetcher()\n",
        "    iface = ResourceContent(url_fetcher)\n",
        "    iface.show_content('http://python.org')\n",
        "\n",
        "    print('===================')\n",
        "\n",
        "    localfs_fetcher = LocalFileFetcher()\n",
        "    iface = ResourceContent(localfs_fetcher)\n",
        "    iface.show_content('file.txt')"
      ],
      "metadata": {
        "id": "44yDkA7bov5m"
      },
      "execution_count": null,
      "outputs": []
    },
    {
      "cell_type": "code",
      "source": [
        "if __name__ == \"__main__\":\n",
        "    main()"
      ],
      "metadata": {
        "id": "mBX2lfn6o_CD"
      },
      "execution_count": null,
      "outputs": []
    },
    {
      "cell_type": "markdown",
      "source": [
        "## The Facade pattern\n",
        "\n",
        "The facade design pattern helps hide the internal complexity of systems and expose only what is necessary to the client through a simplified interface. In essence, facade is an abstraction layer implemented over an existing complex system."
      ],
      "metadata": {
        "id": "qRHC5QtHpbMb"
      }
    },
    {
      "cell_type": "code",
      "source": [
        "from enum import Enum\n",
        "from abc import ABCMeta, abstractmethod"
      ],
      "metadata": {
        "id": "uwr7yTgjpAYZ"
      },
      "execution_count": null,
      "outputs": []
    },
    {
      "cell_type": "code",
      "source": [
        "State = Enum('State', 'new running sleeping restart zombie')"
      ],
      "metadata": {
        "id": "G58Atg6Kp-NI"
      },
      "execution_count": null,
      "outputs": []
    },
    {
      "cell_type": "code",
      "source": [
        "class User:\n",
        "    pass"
      ],
      "metadata": {
        "id": "VABI_97YqB8D"
      },
      "execution_count": null,
      "outputs": []
    },
    {
      "cell_type": "code",
      "source": [
        "class Process:\n",
        "    pass"
      ],
      "metadata": {
        "id": "c6UaVvhxqEXR"
      },
      "execution_count": null,
      "outputs": []
    },
    {
      "cell_type": "code",
      "source": [
        "class File:\n",
        "    pass"
      ],
      "metadata": {
        "id": "nGwaahKHqGc7"
      },
      "execution_count": null,
      "outputs": []
    },
    {
      "cell_type": "code",
      "source": [
        "class Server(metaclass=ABCMeta):\n",
        "    @abstractmethod\n",
        "    def __init__(self):\n",
        "        pass\n",
        "\n",
        "    def __str__(self):\n",
        "        return self.name\n",
        "\n",
        "    @abstractmethod\n",
        "    def boot(self):\n",
        "        pass\n",
        "\n",
        "    @abstractmethod\n",
        "    def kill(self, restart=True):\n",
        "        pass"
      ],
      "metadata": {
        "id": "0ZnOUDMLqIT0"
      },
      "execution_count": null,
      "outputs": []
    },
    {
      "cell_type": "code",
      "source": [
        "class FileServer(Server):\n",
        "    def __init__(self):\n",
        "        '''actions required for initializing the file server'''\n",
        "        self.name = 'FileServer'\n",
        "        self.state = State.new\n",
        "\n",
        "    def boot(self):\n",
        "        print(f'booting the {self}')\n",
        "        '''actions required for booting the file server'''\n",
        "        self.state = State.running\n",
        "\n",
        "    def kill(self, restart=True):\n",
        "        print(f'Killing {self}')\n",
        "        '''actions required for killing the file server'''\n",
        "        self.state = State.restart if restart else State.zombie\n",
        "\n",
        "    def create_file(self, user, name, permissions):\n",
        "        '''check validity of permissions, user rights, etc.'''\n",
        "        print(f\"trying to create the file '{name}' for user '{user}' with permissions {permissions}\")"
      ],
      "metadata": {
        "id": "_Xp6YBXrqLuH"
      },
      "execution_count": null,
      "outputs": []
    },
    {
      "cell_type": "code",
      "source": [
        "class ProcessServer(Server):\n",
        "    def __init__(self):\n",
        "        '''actions required for initializing the process server'''\n",
        "        self.name = 'ProcessServer'\n",
        "        self.state = State.new\n",
        "\n",
        "    def boot(self):\n",
        "        print(f'booting the {self}')\n",
        "        '''actions required for booting the process server'''\n",
        "        self.state = State.running\n",
        "\n",
        "    def kill(self, restart=True):\n",
        "        print(f'Killing {self}')\n",
        "        '''actions required for killing the process server'''\n",
        "        self.state = State.restart if restart else State.zombie\n",
        "\n",
        "    def create_process(self, user, name):\n",
        "        '''check user rights, generate PID, etc.'''\n",
        "        print(f\"trying to create the process '{name}' for user '{user}'\")"
      ],
      "metadata": {
        "id": "u8VYllzqqdv9"
      },
      "execution_count": null,
      "outputs": []
    },
    {
      "cell_type": "code",
      "source": [
        "class WindowServer:\n",
        "    pass"
      ],
      "metadata": {
        "id": "ogJs8_Bkqsrd"
      },
      "execution_count": null,
      "outputs": []
    },
    {
      "cell_type": "code",
      "source": [
        "class NetworkServer:\n",
        "    pass"
      ],
      "metadata": {
        "id": "A6tDYnUKqwAX"
      },
      "execution_count": null,
      "outputs": []
    },
    {
      "cell_type": "code",
      "source": [
        "class OperatingSystem:\n",
        "    '''The Facade'''\n",
        "    def __init__(self):\n",
        "        self.fs = FileServer()\n",
        "        self.ps = ProcessServer()\n",
        "\n",
        "    def start(self):\n",
        "        [i.boot() for i in (self.fs, self.ps)]\n",
        "\n",
        "    def create_file(self, user, name, permissions):\n",
        "        return self.fs.create_file(user, name, permissions)\n",
        "\n",
        "    def create_process(self, user, name):\n",
        "        return self.ps.create_process(user, name)"
      ],
      "metadata": {
        "id": "Pa0cDcv-qx2H"
      },
      "execution_count": null,
      "outputs": []
    },
    {
      "cell_type": "code",
      "source": [
        "def main():\n",
        "    os = OperatingSystem()\n",
        "    os.start()\n",
        "    os.create_file('foo', 'hello', '-rw-r-r')\n",
        "    os.create_process('bar', 'ls /tmp')"
      ],
      "metadata": {
        "id": "6v3NSU82q7fp"
      },
      "execution_count": null,
      "outputs": []
    },
    {
      "cell_type": "code",
      "source": [
        "if __name__ == '__main__':\n",
        "    main()"
      ],
      "metadata": {
        "colab": {
          "base_uri": "https://localhost:8080/"
        },
        "id": "OIcBZdL6q-Lk",
        "outputId": "114a982c-18bd-4373-82ae-5d573a6db662"
      },
      "execution_count": null,
      "outputs": [
        {
          "output_type": "stream",
          "name": "stdout",
          "text": [
            "booting the FileServer\n",
            "booting the ProcessServer\n",
            "trying to create the file 'hello' for user 'foo' with permissions -rw-r-r\n",
            "trying to create the process 'ls /tmp' for user 'bar'\n"
          ]
        }
      ]
    },
    {
      "cell_type": "markdown",
      "source": [
        "## The Flyweight pattern\n",
        "\n",
        "The flyweight design pattern is a technique used to minimize memory usage and improve performance by introducing data sharing between similar objects. A flyweight is a shared object that contains state-independent, immutable (also known as intrinsic) data. The state-dependent, mutable (also known as extrinsic) data should not be part of flyweight because this is information that cannot be shared, since it differs per object. If flyweight needs extrinsic data, it should be provided explicitly by the client code."
      ],
      "metadata": {
        "id": "N54MiLhhrKGs"
      }
    },
    {
      "cell_type": "code",
      "source": [
        "import random\n",
        "from enum import Enum"
      ],
      "metadata": {
        "id": "aLfdMkSnrEcg"
      },
      "execution_count": null,
      "outputs": []
    },
    {
      "cell_type": "code",
      "source": [
        "CarType = Enum('CarType', 'subcompact compact suv')"
      ],
      "metadata": {
        "id": "My8e_INPB-59"
      },
      "execution_count": null,
      "outputs": []
    },
    {
      "cell_type": "code",
      "source": [
        "class Car:\n",
        "    pool = dict()\n",
        "\n",
        "    def __new__(cls, car_type):\n",
        "        obj = cls.pool.get(car_type, None)\n",
        "        if not obj:\n",
        "            obj = object.__new__(cls)\n",
        "            cls.pool[car_type] = obj\n",
        "            obj.car_type = car_type\n",
        "        return obj\n",
        "\n",
        "    def render(self, color, x, y):\n",
        "        type = self.car_type\n",
        "        msg = f'render a car of type {type} and color {color} at ({x}, {y})'\n",
        "        print(msg)"
      ],
      "metadata": {
        "id": "ERHT4ZB8CDDK"
      },
      "execution_count": null,
      "outputs": []
    },
    {
      "cell_type": "code",
      "source": [
        "def main():\n",
        "    rnd = random.Random()\n",
        "    #age_min, age_max = 1, 30    # in years\n",
        "    colors = 'white black silver gray red blue brown beige yellow green'.split()\n",
        "    min_point, max_point = 0, 100\n",
        "    car_counter = 0\n",
        "\n",
        "    for _ in range(10):\n",
        "        c1 = Car(CarType.subcompact)\n",
        "        c1.render(random.choice(colors),\n",
        "                  rnd.randint(min_point, max_point),\n",
        "                  rnd.randint(min_point, max_point))\n",
        "        car_counter += 1\n",
        "\n",
        "    for _ in range(3):\n",
        "        c2 = Car(CarType.compact)\n",
        "        c2.render(random.choice(colors),\n",
        "                  rnd.randint(min_point, max_point),\n",
        "                  rnd.randint(min_point, max_point))\n",
        "        car_counter += 1\n",
        "\n",
        "    for _ in range(5):\n",
        "        c3 = Car(CarType.suv)\n",
        "        c3.render(random.choice(colors),\n",
        "                  rnd.randint(min_point, max_point),\n",
        "                  rnd.randint(min_point, max_point))\n",
        "        car_counter += 1\n",
        "\n",
        "    print(f'cars rendered: {car_counter}')\n",
        "    print(f'cars actually created: {len(Car.pool)}')\n",
        "\n",
        "    c4 = Car(CarType.subcompact)\n",
        "    c5 = Car(CarType.subcompact)\n",
        "    c6 = Car(CarType.suv)\n",
        "    print(f'{id(c4)} == {id(c5)}? {id(c4) == id(c5)}')\n",
        "    print(f'{id(c5)} == {id(c6)}? {id(c5) == id(c6)}')"
      ],
      "metadata": {
        "id": "rJpvI87rCHgc"
      },
      "execution_count": null,
      "outputs": []
    },
    {
      "cell_type": "code",
      "source": [
        "if __name__ == '__main__':\n",
        "    main()"
      ],
      "metadata": {
        "colab": {
          "base_uri": "https://localhost:8080/"
        },
        "id": "r6e93EmSCZf9",
        "outputId": "dfac4bda-b558-47db-b386-9b9a2f737165"
      },
      "execution_count": null,
      "outputs": [
        {
          "output_type": "stream",
          "name": "stdout",
          "text": [
            "render a car of type CarType.subcompact and color red at (23, 1)\n",
            "render a car of type CarType.subcompact and color white at (37, 61)\n",
            "render a car of type CarType.subcompact and color yellow at (59, 51)\n",
            "render a car of type CarType.subcompact and color gray at (96, 26)\n",
            "render a car of type CarType.subcompact and color red at (59, 44)\n",
            "render a car of type CarType.subcompact and color black at (72, 50)\n",
            "render a car of type CarType.subcompact and color silver at (61, 97)\n",
            "render a car of type CarType.subcompact and color green at (19, 66)\n",
            "render a car of type CarType.subcompact and color black at (90, 92)\n",
            "render a car of type CarType.subcompact and color black at (18, 72)\n",
            "render a car of type CarType.compact and color white at (31, 97)\n",
            "render a car of type CarType.compact and color yellow at (30, 19)\n",
            "render a car of type CarType.compact and color silver at (35, 35)\n",
            "render a car of type CarType.suv and color beige at (73, 21)\n",
            "render a car of type CarType.suv and color white at (48, 87)\n",
            "render a car of type CarType.suv and color black at (82, 32)\n",
            "render a car of type CarType.suv and color red at (12, 93)\n",
            "render a car of type CarType.suv and color yellow at (59, 59)\n",
            "cars rendered: 18\n",
            "cars actually created: 3\n",
            "139395528022320 == 139395528022320? True\n",
            "139395528022320 == 139395528031296? False\n"
          ]
        }
      ]
    },
    {
      "cell_type": "markdown",
      "source": [
        "## The Proxy pattern\n",
        "\n",
        "Proxy is defined as having the authority to represent another object."
      ],
      "metadata": {
        "id": "G2HzT0IMHyCk"
      }
    },
    {
      "cell_type": "code",
      "source": [
        "class SensitiveInfo:\n",
        "    def __init__(self):\n",
        "        self.users = ['nick', 'tom', 'ben', 'mike']\n",
        "\n",
        "    def read(self):\n",
        "        nb = len(self.users)\n",
        "        print(f\"There are {nb} users: {' '.join(self.users)}\")\n",
        "\n",
        "    def add(self, user):\n",
        "        self.users.append(user)\n",
        "        print(f'Added user {user}')"
      ],
      "metadata": {
        "id": "LfK79XLZCaXX"
      },
      "execution_count": null,
      "outputs": []
    },
    {
      "cell_type": "code",
      "source": [
        "class Info:\n",
        "    '''protection proxy to SensitiveInfo'''\n",
        "\n",
        "    def __init__(self):\n",
        "        self.protected = SensitiveInfo()\n",
        "        self.secret = '0xdeadbeef'\n",
        "\n",
        "    def read(self):\n",
        "        self.protected.read()\n",
        "\n",
        "    def add(self, user):\n",
        "        sec = input('what is the secret? ')\n",
        "        self.protected.add(user) if sec == self.secret else print(\"That's wrong!\")"
      ],
      "metadata": {
        "id": "daDPcRUtxMQp"
      },
      "execution_count": null,
      "outputs": []
    },
    {
      "cell_type": "code",
      "source": [
        "def main():\n",
        "    info = Info()\n",
        "\n",
        "    while True:\n",
        "        print('1. read list |==| 2. add user |==| 3. quit')\n",
        "        key = input('choose option: ')\n",
        "        if key == '1':\n",
        "            info.read()\n",
        "        elif key == '2':\n",
        "            name = input('choose username: ')\n",
        "            info.add(name)\n",
        "        elif key == '3':\n",
        "            return False\n",
        "        else:\n",
        "            print(f'unknown option: {key}')"
      ],
      "metadata": {
        "id": "POJwsutJxOtN"
      },
      "execution_count": null,
      "outputs": []
    },
    {
      "cell_type": "code",
      "source": [
        "if __name__ == '__main__':\n",
        "    main()"
      ],
      "metadata": {
        "colab": {
          "base_uri": "https://localhost:8080/"
        },
        "id": "Win9TcjMxZHD",
        "outputId": "99e2d1f8-6c64-4a8a-af52-435e6d3a035c"
      },
      "execution_count": null,
      "outputs": [
        {
          "name": "stdout",
          "output_type": "stream",
          "text": [
            "1. read list |==| 2. add user |==| 3. quit\n",
            "choose option: 1\n",
            "There are 4 users: nick tom ben mike\n",
            "1. read list |==| 2. add user |==| 3. quit\n",
            "choose option: 2\n",
            "choose username: Spongebob\n",
            "what is the secret? 0xdeadbeef\n",
            "Added user Spongebob\n",
            "1. read list |==| 2. add user |==| 3. quit\n",
            "choose option: 1\n",
            "There are 5 users: nick tom ben mike Spongebob\n",
            "1. read list |==| 2. add user |==| 3. quit\n",
            "choose option: 3\n"
          ]
        }
      ]
    },
    {
      "cell_type": "code",
      "source": [],
      "metadata": {
        "id": "Aa76wgysz8H7"
      },
      "execution_count": null,
      "outputs": []
    }
  ]
}