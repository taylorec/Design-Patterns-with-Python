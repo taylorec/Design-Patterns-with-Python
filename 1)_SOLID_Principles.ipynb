{
  "nbformat": 4,
  "nbformat_minor": 0,
  "metadata": {
    "colab": {
      "provenance": [],
      "authorship_tag": "ABX9TyOFjERBuC29TBov6c9msF4N",
      "include_colab_link": true
    },
    "kernelspec": {
      "name": "python3",
      "display_name": "Python 3"
    },
    "language_info": {
      "name": "python"
    }
  },
  "cells": [
    {
      "cell_type": "markdown",
      "metadata": {
        "id": "view-in-github",
        "colab_type": "text"
      },
      "source": [
        "<a href=\"https://colab.research.google.com/github/taylorec/Design-Patterns-with-Python/blob/main/1)_SOLID_Principles.ipynb\" target=\"_parent\"><img src=\"https://colab.research.google.com/assets/colab-badge.svg\" alt=\"Open In Colab\"/></a>"
      ]
    },
    {
      "cell_type": "markdown",
      "source": [
        "## Single responsibility principle (SRP)\n",
        "\n",
        "SRP advocates that when defining a class to provide functionality, that class should have only one reason to exist and should be responsible for only one aspect of the functionality; it promotes the idea that each class should have one job or responsibility, and that job should be encapsulated within that class."
      ],
      "metadata": {
        "id": "JaqmT1ZMG-BR"
      }
    },
    {
      "cell_type": "code",
      "source": [
        "class Report:\n",
        "    def __init__(self, content: str):\n",
        "        self.content: str = content\n",
        "    def generate(self):\n",
        "        print(f\"Report content: {self.content}\")"
      ],
      "metadata": {
        "id": "Au5DCdy3Hujf"
      },
      "execution_count": null,
      "outputs": []
    },
    {
      "cell_type": "code",
      "execution_count": null,
      "metadata": {
        "id": "rzurxkCwGqce"
      },
      "outputs": [],
      "source": [
        "class ReportSaver:\n",
        "    def __init__(self, report: Report):\n",
        "        self.report: Report = report\n",
        "    def save_to_file(self, filename: str):\n",
        "        with open(filename, \"w\") as file:\n",
        "            file.write(self.report.content)"
      ]
    },
    {
      "cell_type": "code",
      "source": [
        "if __name__ == \"__main__\":\n",
        "    report_content = \"This is the content.\"\n",
        "    report = Report(report_content)\n",
        "    report.generate()\n",
        "    report_saver = ReportSaver(report)\n",
        "    report_saver.save_to_file(\"report.txt\")"
      ],
      "metadata": {
        "colab": {
          "base_uri": "https://localhost:8080/"
        },
        "id": "Tn60Vek0HzCD",
        "outputId": "241c6607-0d2f-471b-e100-2563bb01f2ad"
      },
      "execution_count": null,
      "outputs": [
        {
          "output_type": "stream",
          "name": "stdout",
          "text": [
            "Report content: This is the content.\n"
          ]
        }
      ]
    },
    {
      "cell_type": "markdown",
      "source": [
        "## Open-closed principle (OCP)\n",
        "\n",
        "OCP emphasizes that software entities, such as classes and modules, should be open for extension but closed for modification. It means that once a software entity is defined and implemented, it should not be changed to add new functionality. Instead, the entity should be extended through inheritance or interfaces to accommodate new requirements and behaviors."
      ],
      "metadata": {
        "id": "QXLYcl49HCfP"
      }
    },
    {
      "cell_type": "code",
      "source": [
        "import math\n",
        "from typing import Protocol"
      ],
      "metadata": {
        "id": "rT4zh5HTIM2f"
      },
      "execution_count": null,
      "outputs": []
    },
    {
      "cell_type": "code",
      "source": [
        "class Shape(Protocol):\n",
        "    def area(self) -> float:\n",
        "        ..."
      ],
      "metadata": {
        "id": "SBH8mQSVG_TE"
      },
      "execution_count": null,
      "outputs": []
    },
    {
      "cell_type": "code",
      "source": [
        "class Rectangle:\n",
        "    def __init__(self, width: float, height: float):\n",
        "        self.width: float = width\n",
        "        self.height: float = height\n",
        "    def area(self) -> float:\n",
        "        return self.width * self.height"
      ],
      "metadata": {
        "id": "g1Xpp_a3JiqZ"
      },
      "execution_count": null,
      "outputs": []
    },
    {
      "cell_type": "code",
      "source": [
        "class Circle:\n",
        "    def __init__(self, radius: float):\n",
        "        self.radius: float = radius\n",
        "    def area(self) -> float:\n",
        "        return math.pi * (self.radius**2)"
      ],
      "metadata": {
        "id": "AgNtx397Jmif"
      },
      "execution_count": null,
      "outputs": []
    },
    {
      "cell_type": "code",
      "source": [
        "def calculate_area(shape: Shape) -> float:\n",
        "    return shape.area()"
      ],
      "metadata": {
        "id": "9ICrDtFeJsBN"
      },
      "execution_count": null,
      "outputs": []
    },
    {
      "cell_type": "code",
      "source": [
        "if __name__ == \"__main__\":\n",
        "    rect = Rectangle(12, 8)\n",
        "    rect_area = calculate_area(rect)\n",
        "    print(f\"Rectangle area: {rect_area}\")\n",
        "    circ = Circle(6.5)\n",
        "    circ_area = calculate_area(circ)\n",
        "    print(f\"Circle area: {circ_area:.2f}\")"
      ],
      "metadata": {
        "colab": {
          "base_uri": "https://localhost:8080/"
        },
        "id": "1cV4uVHJJsNY",
        "outputId": "84774509-14a3-49b7-ad5a-1c083d763ee4"
      },
      "execution_count": null,
      "outputs": [
        {
          "output_type": "stream",
          "name": "stdout",
          "text": [
            "Rectangle area: 96\n",
            "Circle area: 132.73\n"
          ]
        }
      ]
    },
    {
      "cell_type": "markdown",
      "source": [
        "## Liskov substitution principle (LSP)\n",
        "\n",
        "LSP dictates how subclasses should relate to their superclasses. According to the LSP, if a program uses objects of a superclass, then the substitution of these objects with objects of a subclass should not change the correctness and expected behavior of the program."
      ],
      "metadata": {
        "id": "9YYZHuxzHHjD"
      }
    },
    {
      "cell_type": "code",
      "source": [
        "class Bird:\n",
        "    def move(self):\n",
        "        print(\"I'm moving\")"
      ],
      "metadata": {
        "id": "v2n3JK77HIXb"
      },
      "execution_count": null,
      "outputs": []
    },
    {
      "cell_type": "code",
      "source": [
        "class FlyingBird(Bird):\n",
        "    def move(self):\n",
        "        print(\"I'm flying\")"
      ],
      "metadata": {
        "id": "gFenNgLWK1ET"
      },
      "execution_count": null,
      "outputs": []
    },
    {
      "cell_type": "code",
      "source": [
        "class FlightlessBird(Bird):\n",
        "    def move(self):\n",
        "        print(\"I'm waddling\")"
      ],
      "metadata": {
        "id": "NDgZoySpK1SI"
      },
      "execution_count": null,
      "outputs": []
    },
    {
      "cell_type": "code",
      "source": [
        "def make_bird_move(bird):\n",
        "    bird.move()"
      ],
      "metadata": {
        "id": "M9eNLl_CK1dn"
      },
      "execution_count": null,
      "outputs": []
    },
    {
      "cell_type": "code",
      "source": [
        "if __name__ == \"__main__\":\n",
        "    generic_bird = Bird()\n",
        "    eagle = FlyingBird()\n",
        "    penguin = FlightlessBird()\n",
        "    make_bird_move(generic_bird)\n",
        "    make_bird_move(eagle)\n",
        "    make_bird_move(penguin)"
      ],
      "metadata": {
        "colab": {
          "base_uri": "https://localhost:8080/"
        },
        "id": "NDdhFyG4LETg",
        "outputId": "8ec36948-c34f-472a-bfd4-2268957733fd"
      },
      "execution_count": null,
      "outputs": [
        {
          "output_type": "stream",
          "name": "stdout",
          "text": [
            "I'm moving\n",
            "I'm flying\n",
            "I'm waddling\n"
          ]
        }
      ]
    },
    {
      "cell_type": "markdown",
      "source": [
        "## Interface segregation principle (ISP)\n",
        "\n",
        "ISP advocates for designing smaller, more specific interfaces rather than broad, general-purpose ones. This principle states that a class should not be forced to implement interfaces it does not use."
      ],
      "metadata": {
        "id": "_3aVf3-UHKO-"
      }
    },
    {
      "cell_type": "code",
      "source": [
        "from typing import Protocol\n",
        "class Printer(Protocol):\n",
        "    def print_document(self):\n",
        "        ..."
      ],
      "metadata": {
        "id": "T94qq8noHLI3"
      },
      "execution_count": null,
      "outputs": []
    },
    {
      "cell_type": "code",
      "source": [
        "class Scanner(Protocol):\n",
        "    def scan_document(self):\n",
        "        ..."
      ],
      "metadata": {
        "id": "wkcy2v3QMB9x"
      },
      "execution_count": null,
      "outputs": []
    },
    {
      "cell_type": "code",
      "source": [
        "class Fax(Protocol):\n",
        "    def fax_document(self):\n",
        "        ..."
      ],
      "metadata": {
        "id": "-CgJ4oZlMEtT"
      },
      "execution_count": null,
      "outputs": []
    },
    {
      "cell_type": "code",
      "source": [
        "class AllInOnePrinter:\n",
        "    def print_document(self):\n",
        "        print(\"Printing\")\n",
        "\n",
        "    def scan_document(self):\n",
        "        print(\"Scanning\")\n",
        "\n",
        "    def fax_document(self):\n",
        "        print(\"Faxing\")"
      ],
      "metadata": {
        "id": "GxrWPlXDMGgR"
      },
      "execution_count": null,
      "outputs": []
    },
    {
      "cell_type": "code",
      "source": [
        "class SimplePrinter:\n",
        "    def print_document(self):\n",
        "        print(\"Simply Printing\")"
      ],
      "metadata": {
        "id": "dxbB7GksMGpp"
      },
      "execution_count": null,
      "outputs": []
    },
    {
      "cell_type": "code",
      "source": [
        "def do_the_print(printer: Printer):\n",
        "    printer.print_document()"
      ],
      "metadata": {
        "id": "VXN8o4XlMs7m"
      },
      "execution_count": null,
      "outputs": []
    },
    {
      "cell_type": "code",
      "source": [
        "if __name__ == \"__main__\":\n",
        "    all_in_one = AllInOnePrinter()\n",
        "    all_in_one.scan_document()\n",
        "    all_in_one.fax_document()\n",
        "    do_the_print(all_in_one)\n",
        "    simple = SimplePrinter()\n",
        "    do_the_print(simple)"
      ],
      "metadata": {
        "colab": {
          "base_uri": "https://localhost:8080/"
        },
        "id": "pNd_beXxMG0-",
        "outputId": "bd5a6962-90d6-4efc-96fa-bf7b3ffbc4e6"
      },
      "execution_count": null,
      "outputs": [
        {
          "output_type": "stream",
          "name": "stdout",
          "text": [
            "Scanning\n",
            "Faxing\n",
            "Printing\n",
            "Simply Printing\n"
          ]
        }
      ]
    },
    {
      "cell_type": "markdown",
      "source": [
        "## Dependency inversion principle (DIP)\n",
        "\n",
        "DIP  DIP advocates that high-level modules should not depend directly on low-level modules. Instead, both should depend on abstractions or interfaces. By doing so, you decouple the high-level components from the details of the low-level components."
      ],
      "metadata": {
        "id": "sb8nAmGFHNbK"
      }
    },
    {
      "cell_type": "code",
      "source": [
        "from typing import Protocol\n",
        "class MessageSender(Protocol):\n",
        "    def send(self, message: str):\n",
        "        ..."
      ],
      "metadata": {
        "id": "tk524gmAHOtt"
      },
      "execution_count": null,
      "outputs": []
    },
    {
      "cell_type": "code",
      "source": [
        "class Email:\n",
        "    def send(self, message: str):\n",
        "        print(f\"Sending email: {message}\")"
      ],
      "metadata": {
        "id": "z8PQRoQbOYx1"
      },
      "execution_count": null,
      "outputs": []
    },
    {
      "cell_type": "code",
      "source": [
        "class Notification:\n",
        "    def __init__(self, sender: MessageSender):\n",
        "        self.sender: MessageSender = sender\n",
        "    def send(self, message: str):\n",
        "        self.sender.send(message)"
      ],
      "metadata": {
        "id": "v4hWuFaWOc7B"
      },
      "execution_count": null,
      "outputs": []
    },
    {
      "cell_type": "code",
      "source": [
        "if __name__ == \"__main__\":\n",
        "    email = Email()\n",
        "    notif = Notification(sender=email)\n",
        "    notif.send(message=\"This is the message.\")"
      ],
      "metadata": {
        "colab": {
          "base_uri": "https://localhost:8080/"
        },
        "id": "U8K2NJs5PBpR",
        "outputId": "56d04816-7e42-4849-f184-7fb9ca838078"
      },
      "execution_count": null,
      "outputs": [
        {
          "output_type": "stream",
          "name": "stdout",
          "text": [
            "Sending email: This is the message.\n"
          ]
        }
      ]
    },
    {
      "cell_type": "markdown",
      "source": [
        "## Encapsulating using polymorphism"
      ],
      "metadata": {
        "id": "rT3GGGHJ1WKF"
      }
    },
    {
      "cell_type": "code",
      "source": [
        "class PaymentBase:\n",
        "    def __init__(self, amount: int):\n",
        "        self.amount: int = amount\n",
        "    def process_payment(self):\n",
        "        pass"
      ],
      "metadata": {
        "id": "Jk-2fHD01YRl"
      },
      "execution_count": null,
      "outputs": []
    },
    {
      "cell_type": "code",
      "source": [
        "class CreditCard(PaymentBase):\n",
        "    def process_payment(self):\n",
        "        msg = f\"Credit card payment: {self.amount}\"\n",
        "        print(msg)"
      ],
      "metadata": {
        "id": "T_8GOUkY1eNd"
      },
      "execution_count": null,
      "outputs": []
    },
    {
      "cell_type": "code",
      "source": [
        "class PayPal(PaymentBase):\n",
        "    def process_payment(self):\n",
        "        msg = f\"PayPal payment: {self.amount}\"\n",
        "        print(msg)"
      ],
      "metadata": {
        "id": "V4NiDm4F1gex"
      },
      "execution_count": null,
      "outputs": []
    },
    {
      "cell_type": "code",
      "source": [
        "if __name__ == \"__main__\":\n",
        "    payments = [CreditCard(100), PayPal(200)]\n",
        "    for payment in payments:\n",
        "        payment.process_payment()"
      ],
      "metadata": {
        "colab": {
          "base_uri": "https://localhost:8080/"
        },
        "id": "qEtdrz311iU8",
        "outputId": "bdb391cf-fda9-482b-e134-be1b6932a992"
      },
      "execution_count": null,
      "outputs": [
        {
          "output_type": "stream",
          "name": "stdout",
          "text": [
            "Credit card payment: 100\n",
            "PayPal payment: 200\n"
          ]
        }
      ]
    },
    {
      "cell_type": "markdown",
      "source": [
        "## Encapsulating using a property"
      ],
      "metadata": {
        "id": "x7Sga70X1_75"
      }
    },
    {
      "cell_type": "code",
      "source": [
        "class Circle:\n",
        "    def __init__(self, radius: int):\n",
        "        self._radius: int = radius\n",
        "    @property\n",
        "    def radius(self):\n",
        "        return self._radius\n",
        "    @radius.setter\n",
        "    def radius(self, value: int):\n",
        "        if value < 0:\n",
        "            raise ValueError(\"Radius cannot be negative!\")\n",
        "        self._radius = value"
      ],
      "metadata": {
        "id": "62J_aNel2CHz"
      },
      "execution_count": null,
      "outputs": []
    },
    {
      "cell_type": "code",
      "source": [
        "if __name__ == \"__main__\":\n",
        "    circle = Circle(10)\n",
        "    print(f\"Initial radius: {circle.radius}\")\n",
        "    circle.radius = 15\n",
        "    print(f\"New radius: {circle.radius}\")"
      ],
      "metadata": {
        "colab": {
          "base_uri": "https://localhost:8080/"
        },
        "id": "XVCpoUp32H9Q",
        "outputId": "36420047-3532-4939-fbda-57a71fe47ec9"
      },
      "execution_count": null,
      "outputs": [
        {
          "output_type": "stream",
          "name": "stdout",
          "text": [
            "Initial radius: 10\n",
            "New radius: 15\n"
          ]
        }
      ]
    },
    {
      "cell_type": "markdown",
      "source": [
        "## Composition"
      ],
      "metadata": {
        "id": "fqlCFmcV2bT9"
      }
    },
    {
      "cell_type": "code",
      "source": [
        "class Engine:\n",
        "    def start(self):\n",
        "        print(\"Engine started\")"
      ],
      "metadata": {
        "id": "KOTOimfa2dZr"
      },
      "execution_count": null,
      "outputs": []
    },
    {
      "cell_type": "code",
      "source": [
        "class Car:\n",
        "    def __init__(self):\n",
        "        self.engine = Engine()\n",
        "    def start(self):\n",
        "        self.engine.start()\n",
        "        print(\"Car started\")"
      ],
      "metadata": {
        "id": "gLXdGGYP18Zq"
      },
      "execution_count": null,
      "outputs": []
    },
    {
      "cell_type": "code",
      "source": [
        "if __name__ == \"__main__\":\n",
        "    my_car = Car()\n",
        "    my_car.start()"
      ],
      "metadata": {
        "colab": {
          "base_uri": "https://localhost:8080/"
        },
        "id": "24HiQWSh2qTA",
        "outputId": "2f406467-76fb-4c5f-8ba4-df24c4ae097c"
      },
      "execution_count": null,
      "outputs": [
        {
          "output_type": "stream",
          "name": "stdout",
          "text": [
            "Engine started\n",
            "Car started\n"
          ]
        }
      ]
    },
    {
      "cell_type": "markdown",
      "source": [
        "## Interface"
      ],
      "metadata": {
        "id": "lPZE6G0022vM"
      }
    },
    {
      "cell_type": "code",
      "source": [
        "from abc import ABC, abstractmethod"
      ],
      "metadata": {
        "id": "fjneUeiY21wu"
      },
      "execution_count": null,
      "outputs": []
    },
    {
      "cell_type": "code",
      "source": [
        "class MyInterface(ABC):\n",
        "    @abstractmethod\n",
        "    def do_something(self, param: str):\n",
        "        pass"
      ],
      "metadata": {
        "id": "Q0iA2aRa2xiK"
      },
      "execution_count": null,
      "outputs": []
    },
    {
      "cell_type": "code",
      "source": [
        "class MyClass(MyInterface):\n",
        "    def do_something(self, param: str):\n",
        "        print(f\"Doing something with: '{param}'\")"
      ],
      "metadata": {
        "id": "fqWEwJJS2zVC"
      },
      "execution_count": null,
      "outputs": []
    },
    {
      "cell_type": "code",
      "source": [
        "if __name__ == \"__main__\":\n",
        "    MyClass().do_something(\"some param\")"
      ],
      "metadata": {
        "colab": {
          "base_uri": "https://localhost:8080/"
        },
        "id": "FkpdRwLK2seX",
        "outputId": "e72d169c-e5d5-4a19-9f13-2e456feabfb5"
      },
      "execution_count": null,
      "outputs": [
        {
          "output_type": "stream",
          "name": "stdout",
          "text": [
            "Doing something with: 'some param'\n"
          ]
        }
      ]
    },
    {
      "cell_type": "markdown",
      "source": [
        "## Protocol"
      ],
      "metadata": {
        "id": "xsKYAFO_3hQ2"
      }
    },
    {
      "cell_type": "code",
      "source": [
        "from typing import Protocol\n",
        "class Logger(Protocol):\n",
        "    def log(self, message: str):\n",
        "        ..."
      ],
      "metadata": {
        "id": "M-e74HH73ID9"
      },
      "execution_count": null,
      "outputs": []
    },
    {
      "cell_type": "code",
      "source": [
        "class ConsoleLogger:\n",
        "    def log(self, message: str):\n",
        "        print(f\"Console: {message}\")"
      ],
      "metadata": {
        "id": "5aBaKJXz3n9f"
      },
      "execution_count": null,
      "outputs": []
    },
    {
      "cell_type": "code",
      "source": [
        "class FileLogger:\n",
        "    def log(self, message: str):\n",
        "        with open(\"log.txt\", \"a\") as f:\n",
        "            f.write(f\"File: {message}\\n\")"
      ],
      "metadata": {
        "id": "KERHN58Z3qKz"
      },
      "execution_count": null,
      "outputs": []
    },
    {
      "cell_type": "code",
      "source": [
        "def log_message(logger: Logger, message: str):\n",
        "    logger.log(message)"
      ],
      "metadata": {
        "id": "Ez0tybae3trI"
      },
      "execution_count": null,
      "outputs": []
    },
    {
      "cell_type": "code",
      "source": [
        "if __name__ == \"__main__\":\n",
        "    log_message(ConsoleLogger(), \"A console log.\")\n",
        "    log_message(FileLogger(), \"A file log.\")"
      ],
      "metadata": {
        "colab": {
          "base_uri": "https://localhost:8080/"
        },
        "id": "0zTkOs1-3yaq",
        "outputId": "ba949e1b-b538-4737-bf5b-e8aacd3f24be"
      },
      "execution_count": null,
      "outputs": [
        {
          "output_type": "stream",
          "name": "stdout",
          "text": [
            "Console: A console log.\n"
          ]
        }
      ]
    }
  ]
}